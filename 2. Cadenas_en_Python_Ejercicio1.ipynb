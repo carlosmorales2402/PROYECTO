{
  "nbformat": 4,
  "nbformat_minor": 0,
  "metadata": {
    "colab": {
      "provenance": [],
      "authorship_tag": "ABX9TyPmwp7oOdZwX0puZLlHbxqq",
      "include_colab_link": true
    },
    "kernelspec": {
      "name": "python3",
      "display_name": "Python 3"
    },
    "language_info": {
      "name": "python"
    }
  },
  "cells": [
    {
      "cell_type": "markdown",
      "metadata": {
        "id": "view-in-github",
        "colab_type": "text"
      },
      "source": [
        "<a href=\"https://colab.research.google.com/github/carlosmorales2402/PROYECTO/blob/main/Cadenas_en_Python_Ejercicio1.ipynb\" target=\"_parent\"><img src=\"https://colab.research.google.com/assets/colab-badge.svg\" alt=\"Open In Colab\"/></a>"
      ]
    },
    {
      "cell_type": "code",
      "execution_count": 7,
      "metadata": {
        "id": "8G5lEk9rDXqu"
      },
      "outputs": [],
      "source": [
        "def invertir_cadena(texto):\n",
        "    \"\"\"\n",
        "    Invierte una cadena de texto manualmente usando un bucle\n",
        "\n",
        "    Parámetros:\n",
        "        texto (str): La cadena a invertir\n",
        "\n",
        "    Returns:\n",
        "        str: La cadena invertida\n",
        "    \"\"\"\n",
        "    cadena_invertida = \"\"\n",
        "    for caracter in texto:\n",
        "        cadena_invertida = caracter + cadena_invertida\n",
        "    return cadena_invertida"
      ]
    },
    {
      "cell_type": "code",
      "source": [
        " texto = input(\"Ingrese una cadena de texto para invertir: \")\n",
        "print(f\"Aplicando función:  {invertir_cadena(texto)}\")"
      ],
      "metadata": {
        "colab": {
          "base_uri": "https://localhost:8080/"
        },
        "id": "eJazLgR-EosP",
        "outputId": "c9f9ab05-276b-4cb2-f6ee-2179fa320ede"
      },
      "execution_count": 9,
      "outputs": [
        {
          "output_type": "stream",
          "name": "stdout",
          "text": [
            "Ingrese una cadena de texto para invertir: Python es muy práctico\n",
            "Aplicando función:  ocitcárp yum se nohtyP\n"
          ]
        }
      ]
    }
  ]
}
