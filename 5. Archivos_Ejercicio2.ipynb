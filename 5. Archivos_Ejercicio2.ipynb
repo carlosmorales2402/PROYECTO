{
  "nbformat": 4,
  "nbformat_minor": 0,
  "metadata": {
    "colab": {
      "provenance": [],
      "authorship_tag": "ABX9TyOTfoCYeM5yp1x9RAKnX8aU",
      "include_colab_link": true
    },
    "kernelspec": {
      "name": "python3",
      "display_name": "Python 3"
    },
    "language_info": {
      "name": "python"
    }
  },
  "cells": [
    {
      "cell_type": "markdown",
      "metadata": {
        "id": "view-in-github",
        "colab_type": "text"
      },
      "source": [
        "<a href=\"https://colab.research.google.com/github/carlosmorales2402/PROYECTO/blob/main/5.%20Archivos_Ejercicio2.ipynb\" target=\"_parent\"><img src=\"https://colab.research.google.com/assets/colab-badge.svg\" alt=\"Open In Colab\"/></a>"
      ]
    },
    {
      "cell_type": "code",
      "execution_count": 9,
      "metadata": {
        "id": "qSndWHvxU1rr"
      },
      "outputs": [],
      "source": [
        "nuevo_archivo = open('cuadrados.txt','w')\n",
        "for numero in range(10):             # del 0 al 9\n",
        "  cuadrado = numero * numero\n",
        "  nuevo_archivo.write(str(cuadrado)+\"\\n\")\n",
        "nuevo_archivo.close()\n"
      ]
    }
  ]
}