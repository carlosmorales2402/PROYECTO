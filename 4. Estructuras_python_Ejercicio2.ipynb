{
  "nbformat": 4,
  "nbformat_minor": 0,
  "metadata": {
    "colab": {
      "provenance": [],
      "authorship_tag": "ABX9TyM39Jcn989zlhWeN95DFvt/",
      "include_colab_link": true
    },
    "kernelspec": {
      "name": "python3",
      "display_name": "Python 3"
    },
    "language_info": {
      "name": "python"
    }
  },
  "cells": [
    {
      "cell_type": "markdown",
      "metadata": {
        "id": "view-in-github",
        "colab_type": "text"
      },
      "source": [
        "<a href=\"https://colab.research.google.com/github/carlosmorales2402/PROYECTO/blob/main/4.%20Estructuras_python_Ejercicio2.ipynb\" target=\"_parent\"><img src=\"https://colab.research.google.com/assets/colab-badge.svg\" alt=\"Open In Colab\"/></a>"
      ]
    },
    {
      "cell_type": "code",
      "execution_count": 2,
      "metadata": {
        "id": "2MA32f_sZgFW"
      },
      "outputs": [],
      "source": [
        "class Estudiante:\n",
        "    \"\"\"\n",
        "    Estructura para almacenar y manejar la información de un estudiante\n",
        "    \"\"\"\n",
        "    def __init__(self, nombre=\"\", edad=0, promedio=0.0):                #Creando el constructor, self es la autoreferencia a la instancia\n",
        "        \"\"\"\n",
        "\n",
        "        Parámetros:\n",
        "            nombre (str): Nombre del estudiante\n",
        "            edad (int): Edad del estudiante\n",
        "            promedio (float): Promedio del estudiante\n",
        "        \"\"\"\n",
        "        self.nombre = nombre                                           #Establecemos los atributos siempre usando el self\n",
        "        self.edad = edad\n",
        "        self.promedio = promedio\n",
        "\n",
        "    def ingresar_datos(self):                                          #Creando primer método de instancia\n",
        "        \"\"\"\n",
        "        Permite al usuario ingresar los datos del estudiante\n",
        "        \"\"\"\n",
        "        print(\"\\nIngrese los datos del estudiante:\")\n",
        "        self.nombre = input(\"Nombre: \")\n",
        "\n",
        "        while True:\n",
        "            try:\n",
        "                self.edad = int(input(\"Edad: \"))\n",
        "                if self.edad <= 0:\n",
        "                    print(\"La edad debe ser un número positivo\")\n",
        "                    continue\n",
        "                break\n",
        "            except ValueError:\n",
        "                print(\"Por favor ingrese un número entero válido\")\n",
        "\n",
        "        while True:\n",
        "            try:\n",
        "                self.promedio = float(input(\"Promedio: \"))\n",
        "                if not (0.0 <= self.promedio <= 20.0):\n",
        "                    print(\"El promedio debe estar entre 0 y 20\")\n",
        "                    continue\n",
        "                break\n",
        "            except ValueError:\n",
        "                print(\"Por favor ingrese un número válido\")\n",
        "\n",
        "    def mostrar_detalles(self):                                      #Creando segundo método de instancia\n",
        "        \"\"\"\n",
        "        Muestra los detalles del estudiante en un formato ordenado\n",
        "        \"\"\"\n",
        "        print(\"\\nDetalles del Estudiante:\")\n",
        "        print(\"-\" * 25)\n",
        "        print(f\"Nombre: {self.nombre}\")\n",
        "        print(f\"Edad: {self.edad} años\")\n",
        "        print(f\"Promedio: {self.promedio:.2f}\")\n",
        "\n",
        ""
      ]
    },
    {
      "cell_type": "code",
      "source": [
        "estudiante = Estudiante()\n",
        "while True:\n",
        " print(\"\\nMenu:\")\n",
        " print(\"1. Ingresar datos del estudiante\")\n",
        " print(\"2. Mostrar detalles del estudiante\")\n",
        " print(\"3. Salir\")\n",
        "\n",
        " opcion = input(\"\\nSeleccione una opción (1-3): \")\n",
        " if opcion == \"1\":\n",
        "            estudiante.ingresar_datos()\n",
        " elif opcion == \"2\":\n",
        "            estudiante.mostrar_detalles()\n",
        " elif opcion ==\"3\":\n",
        "            print(\"\\nPrograma terminado\")\n",
        "            break\n",
        " else:\n",
        "       print(\"\\nOpción no válida. Por favor intente nuevamente.\")"
      ],
      "metadata": {
        "colab": {
          "base_uri": "https://localhost:8080/"
        },
        "id": "UVY5B98KdyPr",
        "outputId": "dbcc6eb3-933a-4601-dad7-99871238c4cd"
      },
      "execution_count": 9,
      "outputs": [
        {
          "output_type": "stream",
          "name": "stdout",
          "text": [
            "\n",
            "Menu:\n",
            "1. Ingresar datos del estudiante\n",
            "2. Mostrar detalles del estudiante\n",
            "3. Salir\n",
            "\n",
            "Seleccione una opción (1-3): 1\n",
            "\n",
            "Ingrese los datos del estudiante:\n",
            "Nombre: Carlos\n",
            "Edad: 22\n",
            "Promedio: 12\n",
            "\n",
            "Menu:\n",
            "1. Ingresar datos del estudiante\n",
            "2. Mostrar detalles del estudiante\n",
            "3. Salir\n",
            "\n",
            "Seleccione una opción (1-3): 2\n",
            "\n",
            "Detalles del Estudiante:\n",
            "-------------------------\n",
            "Nombre: Carlos\n",
            "Edad: 22 años\n",
            "Promedio: 12.00\n",
            "\n",
            "Menu:\n",
            "1. Ingresar datos del estudiante\n",
            "2. Mostrar detalles del estudiante\n",
            "3. Salir\n",
            "\n",
            "Seleccione una opción (1-3): 3\n",
            "\n",
            "Programa terminado\n"
          ]
        }
      ]
    }
  ]
}