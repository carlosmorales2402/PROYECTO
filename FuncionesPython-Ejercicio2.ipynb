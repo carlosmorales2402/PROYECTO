{
  "nbformat": 4,
  "nbformat_minor": 0,
  "metadata": {
    "colab": {
      "provenance": [],
      "authorship_tag": "ABX9TyMshbw7yyNftmeYsf16Vw2E",
      "include_colab_link": true
    },
    "kernelspec": {
      "name": "python3",
      "display_name": "Python 3"
    },
    "language_info": {
      "name": "python"
    }
  },
  "cells": [
    {
      "cell_type": "markdown",
      "metadata": {
        "id": "view-in-github",
        "colab_type": "text"
      },
      "source": [
        "<a href=\"https://colab.research.google.com/github/carlosmorales2402/PROYECTO/blob/main/FuncionesPython-Ejercicio2.ipynb\" target=\"_parent\"><img src=\"https://colab.research.google.com/assets/colab-badge.svg\" alt=\"Open In Colab\"/></a>"
      ]
    },
    {
      "cell_type": "code",
      "execution_count": 5,
      "metadata": {
        "id": "rpubKRNegRty"
      },
      "outputs": [],
      "source": [
        "def fibonacci(n):\n",
        "    \"\"\"\n",
        "    Calcula el n-ésimo término de la secuencia de Fibonacci usando recursión.\n",
        "\n",
        "    Parametros:\n",
        "        n (int): La posición del término de Fibonacci a calcular (comenzando desde 0)\n",
        "\n",
        "    Returns:\n",
        "        int: El n-ésimo número de Fibonacci\n",
        "\n",
        "    Raises (sirve para lanzar de forma intencional una excepción):\n",
        "        ValueError: Si n es negativo\n",
        "    \"\"\"\n",
        "\n",
        "    # Caso base: validar entrada\n",
        "    if n < 0:\n",
        "        raise ValueError(\"El número debe ser no negativo\")\n",
        "\n",
        "    # Casos base de la recursión\n",
        "    if n <= 1:\n",
        "        return n\n",
        "    # Caso recursivo: F(n) = F(n-1) + F(n-2)\n",
        "    else:\n",
        "        return fibonacci(n-1) + fibonacci(n-2)\n",
        "\n"
      ]
    },
    {
      "cell_type": "code",
      "source": [
        "n=10\n",
        "fibonacci(n)"
      ],
      "metadata": {
        "colab": {
          "base_uri": "https://localhost:8080/"
        },
        "id": "jXSdqXTz--u1",
        "outputId": "ef19b64f-3126-4372-f80c-dac130244a40"
      },
      "execution_count": 7,
      "outputs": [
        {
          "output_type": "execute_result",
          "data": {
            "text/plain": [
              "55"
            ]
          },
          "metadata": {},
          "execution_count": 7
        }
      ]
    }
  ]
}