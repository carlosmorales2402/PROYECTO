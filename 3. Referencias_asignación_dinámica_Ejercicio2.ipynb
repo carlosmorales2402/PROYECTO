{
  "nbformat": 4,
  "nbformat_minor": 0,
  "metadata": {
    "colab": {
      "provenance": [],
      "authorship_tag": "ABX9TyNn5+pCqUFj8GbfqanPUoRy",
      "include_colab_link": true
    },
    "kernelspec": {
      "name": "python3",
      "display_name": "Python 3"
    },
    "language_info": {
      "name": "python"
    }
  },
  "cells": [
    {
      "cell_type": "markdown",
      "metadata": {
        "id": "view-in-github",
        "colab_type": "text"
      },
      "source": [
        "<a href=\"https://colab.research.google.com/github/carlosmorales2402/PROYECTO/blob/main/3.%20Referencias_asignaci%C3%B3n_din%C3%A1mica_Ejercicio2.ipynb\" target=\"_parent\"><img src=\"https://colab.research.google.com/assets/colab-badge.svg\" alt=\"Open In Colab\"/></a>"
      ]
    },
    {
      "cell_type": "code",
      "execution_count": 13,
      "metadata": {
        "id": "2sn75fY4N1yS"
      },
      "outputs": [],
      "source": [
        "def calcular_suma_lista():\n",
        "    \"\"\"\n",
        "    Permite crear una lista de enteros y calcula su suma.\n",
        "\n",
        "    Returns:\n",
        "        tuple: (lista de enteros, suma total)\n",
        "    \"\"\"\n",
        "\n",
        "    # Solicitamos el tamaño de la lista\n",
        "    while True:   #Palabra reservada para repetir bloque de código unca cantidad de veces desconocidas\n",
        "        try:\n",
        "            tamaño = int(input(\"Ingrese el tamaño de la lista: \"))\n",
        "            if tamaño > 0:\n",
        "                break\n",
        "            print(\"El tamaño debe ser mayor a 0\")\n",
        "        except ValueError:\n",
        "            print(\"Por favor ingrese un número entero válido\")\n",
        "\n",
        "    # Creamos y llenamos la lista\n",
        "    numeros = []\n",
        "    print(\"\\nIngrese los números enteros:\")\n",
        "\n",
        "    for i in range(tamaño):\n",
        "        while True:\n",
        "            try:\n",
        "                numero = int(input(f\"Número {i+1}: \"))\n",
        "                numeros.append(numero)\n",
        "                break\n",
        "            except ValueError:\n",
        "                print(\"Por favor ingrese un número entero válido\")\n",
        "\n",
        "    # Calcular la suma\n",
        "    suma = sum(numeros)\n",
        "    return numeros, suma\n"
      ]
    },
    {
      "cell_type": "code",
      "source": [
        "lista, suma = calcular_suma_lista()\n",
        "\n",
        "    # Mostrar resultados\n",
        "print(\"\\nResultados:\")\n",
        "print(f\"Lista ingresada: {lista}\")\n",
        "print(f\"Suma total: {suma}\")"
      ],
      "metadata": {
        "colab": {
          "base_uri": "https://localhost:8080/"
        },
        "id": "yDKBnCYuRLXb",
        "outputId": "8f1c0c91-c83a-4611-cc4a-3d1663a588d6"
      },
      "execution_count": 14,
      "outputs": [
        {
          "output_type": "stream",
          "name": "stdout",
          "text": [
            "Ingrese el tamaño de la lista: 4\n",
            "\n",
            "Ingrese los números enteros:\n",
            "Número 1: 1\n",
            "Número 2: 2\n",
            "Número 3: Hola\n",
            "Por favor ingrese un número entero válido\n",
            "Número 3: 3\n",
            "Número 4: 4\n",
            "\n",
            "Resultados:\n",
            "Lista ingresada: [1, 2, 3, 4]\n",
            "Suma total: 10\n"
          ]
        }
      ]
    },
    {
      "cell_type": "code",
      "source": [
        "def intercambiar_valores(a, b):\n",
        "    \"\"\"\n",
        "    Intercambia los valores de dos números usando una variable temporal\n",
        "\n",
        "    Parámetros:\n",
        "        a (number): Primer número\n",
        "        b (number): Segundo número\n",
        "\n",
        "    Returns:\n",
        "        tuple: Los valores intercambiados (b, a)\n",
        "    \"\"\"\n",
        "    # Usando variable temporal\n",
        "    temp = a\n",
        "    a = b\n",
        "    b = temp\n",
        "    return a, b"
      ],
      "metadata": {
        "id": "tFTESwylTa3D"
      },
      "execution_count": 16,
      "outputs": []
    },
    {
      "cell_type": "code",
      "source": [
        "num1 = 10\n",
        "num2 = 15\n",
        "print(f\"\\nValores originales:\")\n",
        "print(f\"Primer número: {num1}\")\n",
        "print(f\"Segundo número: {num2}\")\n",
        "\n",
        "   # Intercambiando valores\n",
        "nuevo_num1, nuevo_num2 = intercambiar_valores(num1, num2)\n",
        "print(f\"\\nValores nuevos:\")\n",
        "print(f\"Primer número: {nuevo_num1}\")\n",
        "print(f\"Segundo número: {nuevo_num2}\")"
      ],
      "metadata": {
        "colab": {
          "base_uri": "https://localhost:8080/"
        },
        "id": "osgVtEYbTrHx",
        "outputId": "738ad031-6a38-4d4b-8918-493a35a0142d"
      },
      "execution_count": 21,
      "outputs": [
        {
          "output_type": "stream",
          "name": "stdout",
          "text": [
            "\n",
            "Valores originales:\n",
            "Primer número: 10\n",
            "Segundo número: 15\n",
            "\n",
            "Valores nuevos:\n",
            "Primer número: 15\n",
            "Segundo número: 10\n"
          ]
        }
      ]
    }
  ]
}