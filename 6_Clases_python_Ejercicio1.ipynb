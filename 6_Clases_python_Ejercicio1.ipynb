{
  "nbformat": 4,
  "nbformat_minor": 0,
  "metadata": {
    "colab": {
      "provenance": [],
      "authorship_tag": "ABX9TyOt9pCgKoITFTa4cgvOZZlo",
      "include_colab_link": true
    },
    "kernelspec": {
      "name": "python3",
      "display_name": "Python 3"
    },
    "language_info": {
      "name": "python"
    }
  },
  "cells": [
    {
      "cell_type": "markdown",
      "metadata": {
        "id": "view-in-github",
        "colab_type": "text"
      },
      "source": [
        "<a href=\"https://colab.research.google.com/github/carlosmorales2402/PROYECTO/blob/main/6_Clases_python_Ejercicio1.ipynb\" target=\"_parent\"><img src=\"https://colab.research.google.com/assets/colab-badge.svg\" alt=\"Open In Colab\"/></a>"
      ]
    },
    {
      "cell_type": "code",
      "execution_count": 12,
      "metadata": {
        "id": "uGVdy6FhieVM"
      },
      "outputs": [],
      "source": [
        "class Persona:\n",
        "    def __init__(self, nombre, edad):\n",
        "        \"\"\"\n",
        "        Parámetros:\n",
        "            nombre (str): Nombre de la persona\n",
        "            edad (int): Edad de la persona\n",
        "        \"\"\"\n",
        "        self.nombre = nombre\n",
        "        self.edad = edad\n",
        "\n",
        "    def mostrar_datos(self):\n",
        "        \"\"\"\n",
        "        Método que muestra los datos de la persona\n",
        "        \"\"\"\n",
        "        print(f\"Nombre: {self.nombre}\")\n",
        "        print(f\"Edad: {self.edad}\")"
      ]
    },
    {
      "cell_type": "code",
      "source": [
        "persona1 = Persona(\"Juan\", 25)\n",
        "persona1.mostrar_datos()"
      ],
      "metadata": {
        "colab": {
          "base_uri": "https://localhost:8080/"
        },
        "id": "-ObehSD4jr8w",
        "outputId": "7dde2af5-1842-4dca-eae2-50d375040fb5"
      },
      "execution_count": 14,
      "outputs": [
        {
          "output_type": "stream",
          "name": "stdout",
          "text": [
            "Nombre: Juan\n",
            "Edad: 25\n"
          ]
        }
      ]
    }
  ]
}